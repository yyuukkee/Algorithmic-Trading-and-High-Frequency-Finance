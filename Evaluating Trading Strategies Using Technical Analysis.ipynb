{
  "nbformat": 4,
  "nbformat_minor": 0,
  "metadata": {
    "colab": {
      "provenance": [],
      "authorship_tag": "ABX9TyPrSRlEOe2uaac1Graf55q1",
      "include_colab_link": true
    },
    "kernelspec": {
      "name": "python3",
      "display_name": "Python 3"
    },
    "language_info": {
      "name": "python"
    }
  },
  "cells": [
    {
      "cell_type": "markdown",
      "metadata": {
        "id": "view-in-github",
        "colab_type": "text"
      },
      "source": [
        "<a href=\"https://colab.research.google.com/github/yyuukkee/Algorithmic-Trading-and-High-Frequency-Finance/blob/main/Evaluating%20Trading%20Strategies%20Using%20Technical%20Analysis.ipynb\" target=\"_parent\"><img src=\"https://colab.research.google.com/assets/colab-badge.svg\" alt=\"Open In Colab\"/></a>"
      ]
    },
    {
      "cell_type": "markdown",
      "source": [
        "#Evaluating Trading Strategies Using Technical Analysis"
      ],
      "metadata": {
        "id": "n6ZPMJmfaMBe"
      }
    },
    {
      "cell_type": "markdown",
      "source": [
        "##Project Objective\n",
        "The goal of this project is to develop and evaluate technical trading strategies using at least four years of historical market data (stocks, indices, or ETFs). The strategy's performance will be assessed by key metrics such as total return, winning percentage, and maximum drawdown.\n",
        "\n"
      ],
      "metadata": {
        "id": "opGmfU59aOSz"
      }
    },
    {
      "cell_type": "markdown",
      "source": [
        "##Step 1: Select the asset and download the data"
      ],
      "metadata": {
        "id": "aoUkizIra4th"
      }
    },
    {
      "cell_type": "markdown",
      "source": [
        "In this step, we chose the Nasdaq Composite Index for research and the Invesco QQQ ETF as the research asset. We choose to study the Invesco QQQ ETF (QQQ) using data from January 1, 2020, to January 1, 2025, covering a five-year period. The Nasdaq Composite Index is one of the most widely followed stock market indices, tracking over 3,000 technology-heavy stocks listed on the Nasdaq Stock Exchange. It is known for its high-growth companies in sectors such as technology, biotechnology, and communications, including giants like Apple, Microsoft, Amazon, and NVIDIA. To conduct our analysis, we select Invesco QQQ ETF (Ticker: QQQ), an exchange-traded fund (ETF) designed to track the Nasdaq-100 Index. QQQ includes the top 100 non-financial companies listed on Nasdaq, making it a widely used vehicle for investors looking to gain exposure to high-growth technology firms."
      ],
      "metadata": {
        "id": "4H9cs57rbHdh"
      }
    },
    {
      "cell_type": "code",
      "source": [
        "import yfinance as yf\n",
        "import pandas as pd\n",
        "import numpy as np\n",
        "import matplotlib.pyplot as plt\n",
        "import warnings\n",
        "warnings.filterwarnings(\"ignore\")"
      ],
      "metadata": {
        "id": "QcAPualHcLLo"
      },
      "execution_count": 1,
      "outputs": []
    },
    {
      "cell_type": "code",
      "source": [
        "ticker = \"QQQ\"\n",
        "start_date = \"2020-01-01\"\n",
        "end_date = \"2025-01-01\"\n",
        "\n",
        "qqq_data = yf.download(ticker, start=start_date, end=end_date, interval=\"1d\",auto_adjust=False)\n",
        "qqq_data = qqq_data.droplevel(1, axis=1)\n",
        "print()\n",
        "print(qqq_data.head())\n",
        "print(qqq_data.tail())"
      ],
      "metadata": {
        "colab": {
          "base_uri": "https://localhost:8080/"
        },
        "id": "4_lNG_pha4Sc",
        "outputId": "c0f97280-7741-47a0-a847-c2ab48f5a210"
      },
      "execution_count": 2,
      "outputs": [
        {
          "output_type": "stream",
          "name": "stderr",
          "text": [
            "\r[*********************100%***********************]  1 of 1 completed"
          ]
        },
        {
          "output_type": "stream",
          "name": "stdout",
          "text": [
            "\n",
            "Price        Adj Close       Close        High         Low        Open  \\\n",
            "Date                                                                     \n",
            "2020-01-02  209.638031  216.160004  216.160004  213.979996  214.399994   \n",
            "2020-01-03  207.717819  214.179993  215.470001  213.279999  213.300003   \n",
            "2020-01-06  209.056152  215.559998  215.589996  212.240005  212.500000   \n",
            "2020-01-07  209.027069  215.529999  216.139999  214.850006  215.639999   \n",
            "2020-01-08  210.598160  217.149994  218.139999  215.160004  215.500000   \n",
            "\n",
            "Price         Volume  \n",
            "Date                  \n",
            "2020-01-02  30969400  \n",
            "2020-01-03  27518900  \n",
            "2020-01-06  21655300  \n",
            "2020-01-07  22139300  \n",
            "2020-01-08  26397300  \n",
            "Price        Adj Close       Close        High         Low        Open  \\\n",
            "Date                                                                     \n",
            "2024-12-24  529.960022  529.960022  530.049988  524.190002  524.830017   \n",
            "2024-12-26  529.599976  529.599976  531.239990  526.309998  528.320007   \n",
            "2024-12-27  522.559998  522.559998  526.450012  517.859985  526.010010   \n",
            "2024-12-30  515.609985  515.609985  519.359985  511.829987  515.510010   \n",
            "2024-12-31  511.230011  511.230011  517.659973  510.260010  516.900024   \n",
            "\n",
            "Price         Volume  \n",
            "Date                  \n",
            "2024-12-24  17558200  \n",
            "2024-12-26  19090500  \n",
            "2024-12-27  33839600  \n",
            "2024-12-30  34584000  \n",
            "2024-12-31  29117000  \n"
          ]
        },
        {
          "output_type": "stream",
          "name": "stderr",
          "text": [
            "\n"
          ]
        }
      ]
    },
    {
      "cell_type": "markdown",
      "source": [
        "##Step 2: Strategy Design"
      ],
      "metadata": {
        "id": "Byas_0VQfD4L"
      }
    },
    {
      "cell_type": "markdown",
      "source": [
        "### Trading System Assumptions(Filter rules)\n",
        "\n",
        "#### Initial Capital\n",
        "$100,000\n",
        "\n",
        "#### Trading Unit\n",
        "Only whole shares can be bought or sold.\n",
        "\n",
        "#### Trading Logic\n",
        "- Buy Condition:  \n",
        "  - The current closing price breaks above \\( 1.05M_k \\) (the highest price in the past 10 days).  \n",
        "  - There is sufficient capital to buy at least 1 share.  \n",
        "\n",
        "- Sell Condition:  \n",
        "  - The current closing price falls below \\( 0.95m_k \\) (the lowest price in the past 10 days).  \n",
        "  - The account holds shares.\n",
        "\n",
        "#### Capital Management\n",
        "- Buying: Purchase as many whole shares as possible, but borrowing is not allowed.  \n",
        "- Selling: Liquidate all holdings.  \n",
        "- Management Fee: A 0.20% per year fee is deducted from the total capital.  \n",
        "\n",
        "#### Slippage Settings\n",
        "A slippage factor is introduced to simulate real market conditions:\n",
        "- Fixed Slippage: A predefined percentage (0.05% per trade).  \n",
        "\n",
        "\n",
        "\n"
      ],
      "metadata": {
        "id": "8Bt2XsKofSmm"
      }
    },
    {
      "cell_type": "code",
      "execution_count": 3,
      "metadata": {
        "colab": {
          "base_uri": "https://localhost:8080/"
        },
        "id": "wWIg0YKXZ9Br",
        "outputId": "13d65ae5-76e3-425a-8d66-9829bb4dfdba"
      },
      "outputs": [
        {
          "output_type": "stream",
          "name": "stdout",
          "text": [
            "Price        Adj Close       Close        High         Low        Open  \\\n",
            "Date                                                                     \n",
            "2020-01-02  209.638031  216.160004  216.160004  213.979996  214.399994   \n",
            "2020-01-03  207.717819  214.179993  215.470001  213.279999  213.300003   \n",
            "2020-01-06  209.056152  215.559998  215.589996  212.240005  212.500000   \n",
            "2020-01-07  209.027069  215.529999  216.139999  214.850006  215.639999   \n",
            "2020-01-08  210.598160  217.149994  218.139999  215.160004  215.500000   \n",
            "\n",
            "Price         Volume  M_k  m_k  \n",
            "Date                            \n",
            "2020-01-02  30969400  NaN  NaN  \n",
            "2020-01-03  27518900  NaN  NaN  \n",
            "2020-01-06  21655300  NaN  NaN  \n",
            "2020-01-07  22139300  NaN  NaN  \n",
            "2020-01-08  26397300  NaN  NaN  \n",
            "Price        Adj Close       Close        High         Low        Open  \\\n",
            "Date                                                                     \n",
            "2024-12-24  529.960022  529.960022  530.049988  524.190002  524.830017   \n",
            "2024-12-26  529.599976  529.599976  531.239990  526.309998  528.320007   \n",
            "2024-12-27  522.559998  522.559998  526.450012  517.859985  526.010010   \n",
            "2024-12-30  515.609985  515.609985  519.359985  511.829987  515.510010   \n",
            "2024-12-31  511.230011  511.230011  517.659973  510.260010  516.900024   \n",
            "\n",
            "Price         Volume         M_k         m_k  \n",
            "Date                                          \n",
            "2024-12-24  17558200  538.169983  514.169983  \n",
            "2024-12-26  19090500  538.169983  514.169983  \n",
            "2024-12-27  33839600  538.169983  514.169983  \n",
            "2024-12-30  34584000  538.169983  514.169983  \n",
            "2024-12-31  29117000  535.799988  511.230011  \n"
          ]
        }
      ],
      "source": [
        "n = 10\n",
        "qqq_data[\"M_k\"] = qqq_data[\"Close\"].rolling(window=n).max()\n",
        "qqq_data[\"m_k\"] = qqq_data[\"Close\"].rolling(window=n).min()\n",
        "print(qqq_data.head())\n",
        "print(qqq_data.tail())"
      ]
    },
    {
      "cell_type": "code",
      "source": [
        "initial_capital = 100000\n",
        "cash = initial_capital\n",
        "position = 0\n",
        "buy_threshold = 1.01\n",
        "sell_threshold = 0.99\n",
        "slippage = 0.0005\n",
        "management_fee = 0.002\n",
        "\n",
        "trade_log = []\n",
        "equity_curve = []\n",
        "round_trip_trades = 0\n",
        "winning_trades = 0\n",
        "losing_trades = 0\n",
        "entry_price = 0\n",
        "drawdowns = []\n",
        "\n",
        "for i in range(n+1, len(qqq_data)):\n",
        "    current_price = qqq_data[\"Close\"].iloc[i]\n",
        "    current_price_adjust=qqq_data[\"Adj Close\"].iloc[i]\n",
        "    max_price = qqq_data[\"M_k\"].iloc[i-1]\n",
        "    min_price = qqq_data[\"m_k\"].iloc[i-1]\n",
        "\n",
        "    buy_signal = current_price > buy_threshold * max_price\n",
        "    sell_signal = current_price < sell_threshold * min_price\n",
        "\n",
        "    if buy_signal and cash >= current_price:\n",
        "        execution_price = current_price * (1 + slippage)\n",
        "        shares_to_buy = int(cash / execution_price)\n",
        "        cost = shares_to_buy * execution_price\n",
        "        position += shares_to_buy\n",
        "        cash -= cost\n",
        "        entry_price = execution_price\n",
        "        entry_price_adjust=current_price_adjust\n",
        "        trade_log.append(f\"Buy {shares_to_buy} shares at {execution_price:.2f} on {qqq_data.index[i].date()}\")\n",
        "\n",
        "    elif sell_signal and position > 0:\n",
        "        execution_price = entry_price * current_price_adjust / entry_price_adjust * (1 - slippage)\n",
        "        cash += position * execution_price\n",
        "\n",
        "        round_trip_trades += 1\n",
        "        if execution_price > entry_price:\n",
        "            winning_trades += 1\n",
        "        else:\n",
        "            losing_trades += 1\n",
        "\n",
        "        trade_log.append(f\"Sell {position} shares at {execution_price:.2f} on {qqq_data.index[i].date()}\")\n",
        "        position = 0\n",
        "\n",
        "    if i % 252 == 0:\n",
        "        cash *= (1 - management_fee)\n",
        "\n",
        "    current_equity = cash + position * current_price\n",
        "    equity_curve.append(current_equity)\n",
        "\n",
        "    peak = max(equity_curve)\n",
        "    drawdown = (peak - current_equity) / peak\n",
        "    drawdowns.append(drawdown)\n",
        "\n",
        "final_value = cash + position * qqq_data[\"Close\"].iloc[-1]\n",
        "trade_log.append(f\"Final Portfolio Value: ${final_value:.2f}\")\n",
        "\n",
        "plt.figure(figsize=(10, 5))\n",
        "plt.plot(equity_curve, label=\"Strategy Equity\", color=\"blue\")\n",
        "plt.axhline(y=initial_capital, color='r', linestyle='--', label=\"Initial Capital\")\n",
        "plt.xlabel(\"Days\")\n",
        "plt.ylabel(\"Portfolio Value ($)\")\n",
        "plt.title(\"Equity Curve\")\n",
        "plt.legend()\n",
        "plt.show()"
      ],
      "metadata": {
        "colab": {
          "base_uri": "https://localhost:8080/",
          "height": 487
        },
        "id": "8gotctiGwOom",
        "outputId": "c1b50505-c2d5-4538-99cb-d429b3ebeac2"
      },
      "execution_count": 4,
      "outputs": [
        {
          "output_type": "display_data",
          "data": {
            "text/plain": [
              "<Figure size 1000x500 with 1 Axes>"
            ],
            "image/png": "[encoded data removed]"
          },
          "metadata": {}
        }
      ]
    },
    {
      "cell_type": "code",
      "source": [
        "for i, log in enumerate(trade_log, 1):\n",
        "    print(log, end=\"  \")\n",
        "    if i % 2 == 0:\n",
        "        print()"
      ],
      "metadata": {
        "colab": {
          "base_uri": "https://localhost:8080/"
        },
        "id": "sKomDt8wSv55",
        "outputId": "4d226e6f-08cc-4d19-c285-12547053e25e"
      },
      "execution_count": 5,
      "outputs": [
        {
          "output_type": "stream",
          "name": "stdout",
          "text": [
            "Buy 439 shares at 227.58 on 2020-02-04  Sell 439 shares at 221.39 on 2020-02-24  \n",
            "Buy 494 shares at 196.58 on 2020-04-06  Sell 494 shares at 270.42 on 2020-09-08  \n",
            "Buy 473 shares at 282.39 on 2020-10-01  Sell 473 shares at 280.47 on 2020-10-26  \n",
            "Buy 451 shares at 294.54 on 2020-11-05  Sell 451 shares at 323.02 on 2021-02-22  \n",
            "Buy 448 shares at 324.73 on 2021-04-01  Sell 448 shares at 330.14 on 2021-05-04  \n",
            "Buy 445 shares at 332.68 on 2021-05-24  Sell 445 shares at 366.53 on 2021-09-20  \n",
            "Buy 444 shares at 366.81 on 2021-10-14  Sell 444 shares at 387.12 on 2021-12-01  \n",
            "Buy 426 shares at 403.68 on 2021-12-27  Sell 426 shares at 384.29 on 2022-01-05  \n",
            "Buy 466 shares at 351.67 on 2022-03-18  Sell 466 shares at 349.58 on 2022-04-08  \n",
            "Buy 518 shares at 314.54 on 2022-06-02  Sell 518 shares at 288.84 on 2022-06-10  \n",
            "Buy 493 shares at 303.18 on 2022-07-20  Sell 493 shares at 307.44 on 2022-08-26  \n",
            "Buy 488 shares at 310.90 on 2022-09-12  Sell 488 shares at 284.07 on 2022-09-21  \n",
            "Buy 503 shares at 275.56 on 2022-10-21  Sell 503 shares at 265.68 on 2022-11-02  \n",
            "Buy 464 shares at 288.10 on 2022-11-11  Sell 464 shares at 276.89 on 2022-12-15  \n",
            "Buy 461 shares at 277.69 on 2023-01-11  Sell 461 shares at 294.03 on 2023-02-21  \n",
            "Buy 442 shares at 306.96 on 2023-03-16  Sell 442 shares at 368.98 on 2023-08-09  \n",
            "Buy 435 shares at 374.96 on 2023-08-29  Sell 435 shares at 365.07 on 2023-09-20  \n",
            "Buy 431 shares at 367.89 on 2023-11-03  Sell 431 shares at 399.34 on 2024-01-03  \n",
            "Buy 408 shares at 421.39 on 2024-01-19  Sell 408 shares at 435.92 on 2024-04-04  \n",
            "Buy 404 shares at 440.47 on 2024-05-06  Sell 404 shares at 482.54 on 2024-07-17  \n",
            "Buy 410 shares at 474.66 on 2024-08-15  Sell 410 shares at 461.81 on 2024-09-03  \n",
            "Buy 392 shares at 483.60 on 2024-09-19  Final Portfolio Value: $200571.58  \n"
          ]
        }
      ]
    },
    {
      "cell_type": "markdown",
      "source": [
        "### Step 3: Calculating Trading Performance Metrics\n",
        "\n",
        "#### Core Objectives\n",
        "1. Calculate key performance indicators (KPIs):\n",
        "   - Total return (%): Measures the overall return from the strategy\n",
        "   - Buy and hold return (%): Compares performance with a simple buy-and-hold strategy\n",
        "   - Number of round-trip trades: Counts the completed buy-sell cycles\n",
        "   - Winning trades (%): Percentage of trades that resulted in a profit\n",
        "   - Maximum drawdown (%): The maximum observed loss from a peak to a trough\n",
        "\n",
        "2. Display performance metrics table:\n",
        "   \n"
      ],
      "metadata": {
        "id": "7xoSb8Zo2cBx"
      }
    },
    {
      "cell_type": "code",
      "source": [
        "final_value = cash + position * qqq_data[\"Close\"].iloc[-1]\n",
        "trade_log.append(f\"Final Portfolio Value: ${final_value:.2f}\")\n",
        "\n",
        "total_return = ((final_value - initial_capital) / initial_capital) * 100\n",
        "buy_and_hold_return = ((qqq_data[\"Adj Close\"].iloc[-1] - qqq_data[\"Adj Close\"].iloc[0]) / qqq_data[\"Adj Close\"].iloc[0]) * 100\n",
        "win_rate = (winning_trades / round_trip_trades) * 100 if round_trip_trades > 0 else 0\n",
        "max_drawdown = max(drawdowns) * 100\n",
        "\n",
        "performance_data = {\n",
        "    \"Sample\": [\"Historical\"],\n",
        "    \"# of round-trip trades\": [round_trip_trades],\n",
        "    \"Total return, %\": [round(total_return, 2)],\n",
        "    \"B & H return, %\": [round(buy_and_hold_return, 2)],\n",
        "    \"Winning trades, %\": [round(win_rate, 2)],\n",
        "    \"Max drawdown, %\": [round(max_drawdown, 2)]\n",
        "}\n",
        "\n",
        "performance_df = pd.DataFrame(performance_data)\n",
        "print(performance_df)"
      ],
      "metadata": {
        "colab": {
          "base_uri": "https://localhost:8080/"
        },
        "id": "Piy8X35bzpQ7",
        "outputId": "b5077157-9363-4f0f-e320-6924eb409d2d"
      },
      "execution_count": 6,
      "outputs": [
        {
          "output_type": "stream",
          "name": "stdout",
          "text": [
            "       Sample  # of round-trip trades  Total return, %  B & H return, %  \\\n",
            "0  Historical                      21           100.57           143.86   \n",
            "\n",
            "   Winning trades, %  Max drawdown, %  \n",
            "0              52.38            29.29  \n"
          ]
        }
      ]
    },
    {
      "cell_type": "markdown",
      "source": [
        "The trading performance results show that the strategy executed 21 round-trip trades, yielding a total return of 100.57%.  However, this is notably lower than the buy-and-hold return of 143.86% over the same period.  The underperformance could be attributed to the sustained upward trend of the Invesco QQQ ETF, where remaining out of the market led to missed opportunities.  With a winning trade percentage of 52.38%, the strategy demonstrated only a slight edge over random chance.  Additionally, the maximum drawdown of 29.29% highlights considerable downside risk, indicating that the portfolio experienced a significant decline at some point.  While the strategy generated reasonable returns, its underperformance relative to a simple buy-and-hold approach suggests it may not be the most attractive option for long-term investors."
      ],
      "metadata": {
        "id": "s6jizcfP5rL0"
      }
    },
    {
      "cell_type": "markdown",
      "source": [
        "##Other Strategy"
      ],
      "metadata": {
        "id": "TUnQpDDP6KC8"
      }
    },
    {
      "cell_type": "markdown",
      "source": [
        "### Moving Average Trading Strategy\n",
        "\n",
        "#### Strategy Assumptions\n",
        "- Initial Capital: $100,000\n",
        "- Trading Unit: Only whole shares can be bought or sold.\n",
        "\n",
        "#### Trading Logic\n",
        "#### Compute Moving Averages\n",
        "- Short-Term Moving Average (SMA):  \n",
        "  $$\n",
        "  SMA(P_t, S) = \\frac{(P_{t-1} + P_{t-2} + ... + P_{t-S})}{S}\n",
        "  $$\n",
        "- Long-Term Moving Average (SMA):  \n",
        "  $$\n",
        "  SMA(P_t, L) = \\frac{(P_{t-1} + P_{t-2} + ... + P_{t-L})}{L}\n",
        "  $$\n",
        "- Signal Calculation:  \n",
        "  $$\n",
        "  r_t = \\frac{SMA(P_t, S) - SMA(P_t, L)}{SMA(P_t, L)}\n",
        "  $$\n",
        "\n",
        "#### Trade Execution\n",
        "- Buy Condition: When $$ r_t > \\delta $$, indicating an uptrend.\n",
        "- Sell Condition: When $$ r_t < -\\delta$$, indicating a downtrend.\n",
        "\n",
        "#### Capital Management\n",
        "- Buy: Purchase as many whole shares as possible without borrowing.\n",
        "- Sell: Liquidate all holdings when a sell signal is triggered.\n",
        "- Management Fee: A 0.20% annual fee is deducted from the total capital.\n",
        "- Slippage Settings:\n",
        "  - Fixed Slippage: A predefined percentage (0.05% per trade).\n",
        "  \n"
      ],
      "metadata": {
        "id": "OK2AIGCyPLWn"
      }
    },
    {
      "cell_type": "code",
      "source": [
        "short_window = 5\n",
        "long_window = 20\n",
        "buy_threshold = 0.001\n",
        "sell_threshold = -0.001\n",
        "initial_capital = 100000\n",
        "slippage = 0.0005\n",
        "management_fee = 0.002\n",
        "\n",
        "qqq_data[\"SMA_S\"] = qqq_data[\"Close\"].rolling(window=short_window).mean()\n",
        "qqq_data[\"SMA_L\"] = qqq_data[\"Close\"].rolling(window=long_window).mean()\n",
        "qqq_data[\"Signal\"] = (qqq_data[\"SMA_S\"] - qqq_data[\"SMA_L\"]) / qqq_data[\"SMA_L\"]\n",
        "\n",
        "\n",
        "cash = initial_capital\n",
        "position = 0\n",
        "trade_log = []\n",
        "winning_trades = 0\n",
        "round_trip_trades = 0\n",
        "peak_value = initial_capital\n",
        "drawdowns = []\n",
        "\n",
        "for i in range(long_window, len(qqq_data)):\n",
        "    current_price = qqq_data[\"Close\"].iloc[i]\n",
        "    current_price_adjust=qqq_data[\"Adj Close\"].iloc[i]\n",
        "    signal = qqq_data[\"Signal\"].iloc[i]\n",
        "\n",
        "    buy_signal = signal > buy_threshold\n",
        "    sell_signal = signal < sell_threshold\n",
        "\n",
        "    if buy_signal and cash >= current_price:\n",
        "        execution_price = current_price * (1 + slippage)\n",
        "        shares_to_buy = int(cash / execution_price)\n",
        "        cost = shares_to_buy * execution_price\n",
        "        position += shares_to_buy\n",
        "        cash -= cost\n",
        "        entry_price = execution_price\n",
        "        entry_price_adjust=current_price_adjust\n",
        "        trade_log.append(f\"Buy {shares_to_buy} shares at {execution_price:.2f} on {qqq_data.index[i].date()}\")\n",
        "\n",
        "    elif sell_signal and position > 0:\n",
        "        execution_price = entry_price * current_price_adjust / entry_price_adjust * (1 - slippage)\n",
        "        sell_value = position * execution_price\n",
        "        cash += sell_value\n",
        "        trade_log.append(f\"Sell {shares_to_buy} shares at {execution_price:.2f} on {qqq_data.index[i].date()}\")\n",
        "\n",
        "        if execution_price > entry_price:\n",
        "            winning_trades += 1\n",
        "        round_trip_trades += 1\n",
        "        position = 0\n",
        "\n",
        "    current_value = cash + position * current_price\n",
        "    peak_value = max(peak_value, current_value)\n",
        "    drawdowns.append((peak_value - current_value) / peak_value)\n",
        "\n",
        "    if i % 252 == 0:\n",
        "        cash *= (1 - management_fee)\n",
        "\n",
        "final_value = cash + position * qqq_data[\"Close\"].iloc[-1]\n",
        "trade_log.append(f\"Final Portfolio Value: ${final_value:.2f}\")\n",
        "\n",
        "plt.figure(figsize=(10, 5))\n",
        "plt.plot(equity_curve, label=\"Strategy Equity\", color=\"blue\")\n",
        "plt.axhline(y=initial_capital, color='r', linestyle='--', label=\"Initial Capital\")\n",
        "plt.xlabel(\"Days\")\n",
        "plt.ylabel(\"Portfolio Value ($)\")\n",
        "plt.title(\"Equity Curve\")\n",
        "plt.legend()\n",
        "plt.show()"
      ],
      "metadata": {
        "id": "hvmY9Lt16P1R",
        "colab": {
          "base_uri": "https://localhost:8080/",
          "height": 487
        },
        "outputId": "4c414d14-efc0-4607-9a77-eca2b60f727a"
      },
      "execution_count": 7,
      "outputs": [
        {
          "output_type": "display_data",
          "data": {
            "text/plain": [
              "<Figure size 1000x500 with 1 Axes>"
            ],
            "image/png": "[encoded data removed]"
          },
          "metadata": {}
        }
      ]
    },
    {
      "cell_type": "code",
      "source": [
        "for i, log in enumerate(trade_log, 1):\n",
        "    print(log, end=\"  \")\n",
        "    if i % 2 == 0:\n",
        "        print()"
      ],
      "metadata": {
        "colab": {
          "base_uri": "https://localhost:8080/"
        },
        "id": "Lyx4y5SHS26T",
        "outputId": "2cc1a867-3d75-49bb-f6c6-b4e16f0a3f14"
      },
      "execution_count": 8,
      "outputs": [
        {
          "output_type": "stream",
          "name": "stdout",
          "text": [
            "Buy 456 shares at 219.18 on 2020-01-31  Sell 456 shares at 215.37 on 2020-02-25  \n",
            "Buy 538 shares at 182.40 on 2020-04-01  Sell 538 shares at 260.22 on 2020-07-29  \n",
            "Buy 519 shares at 269.51 on 2020-08-03  Sell 519 shares at 272.34 on 2020-09-10  \n",
            "Buy 501 shares at 282.39 on 2020-10-01  Sell 501 shares at 282.66 on 2020-10-27  \n",
            "Buy 490 shares at 288.73 on 2020-11-09  Sell 490 shares at 324.72 on 2021-02-24  \n",
            "Buy 494 shares at 322.06 on 2021-03-17  Sell 494 shares at 330.56 on 2021-05-04  \n",
            "Buy 489 shares at 334.30 on 2021-05-26  Sell 489 shares at 364.38 on 2021-08-19  \n",
            "Buy 475 shares at 374.56 on 2021-08-24  Sell 475 shares at 373.83 on 2021-09-17  \n",
            "Buy 477 shares at 372.84 on 2021-10-18  Sell 477 shares at 387.12 on 2021-12-01  \n",
            "Buy 470 shares at 392.46 on 2021-12-13  Sell 470 shares at 388.20 on 2021-12-14  \n",
            "Buy 452 shares at 403.68 on 2021-12-27  Sell 452 shares at 384.02 on 2022-01-06  \n",
            "Buy 496 shares at 350.26 on 2022-03-21  Sell 496 shares at 340.89 on 2022-04-11  \n",
            "Buy 552 shares at 306.15 on 2022-06-01  Sell 552 shares at 275.41 on 2022-06-13  \n",
            "Buy 515 shares at 295.13 on 2022-07-07  Sell 515 shares at 315.01 on 2022-08-24  \n",
            "Buy 583 shares at 278.59 on 2022-10-24  Sell 583 shares at 264.68 on 2022-11-04  \n",
            "Buy 535 shares at 288.10 on 2022-11-11  Sell 535 shares at 283.85 on 2022-12-08  \n",
            "Buy 543 shares at 279.19 on 2023-01-12  Sell 543 shares at 296.82 on 2023-02-23  \n",
            "Buy 525 shares at 306.96 on 2023-03-16  Sell 525 shares at 310.47 on 2023-04-25  \n",
            "Buy 510 shares at 319.54 on 2023-05-02  Sell 510 shares at 375.70 on 2023-08-07  \n",
            "Buy 508 shares at 377.05 on 2023-08-30  Sell 508 shares at 365.07 on 2023-09-20  \n",
            "Buy 503 shares at 368.77 on 2023-10-10  Sell 503 shares at 355.67 on 2023-10-23  \n",
            "Buy 485 shares at 369.39 on 2023-11-06  Sell 485 shares at 397.75 on 2024-01-05  \n",
            "Buy 470 shares at 409.76 on 2024-01-12  Sell 470 shares at 439.15 on 2024-03-19  \n",
            "Buy 462 shares at 446.60 on 2024-03-22  Sell 462 shares at 440.47 on 2024-04-05  \n",
            "Buy 462 shares at 440.54 on 2024-05-07  Sell 462 shares at 476.00 on 2024-07-19  \n",
            "Buy 464 shares at 474.66 on 2024-08-15  Sell 464 shares at 461.04 on 2024-09-05  \n",
            "Buy 451 shares at 473.73 on 2024-09-17  Sell 451 shares at 486.69 on 2024-11-04  \n",
            "Buy 427 shares at 513.80 on 2024-11-07  Sell 427 shares at 530.81 on 2024-12-24  \n",
            "Buy 434 shares at 522.82 on 2024-12-27  Sell 434 shares at 511.23 on 2024-12-31  \n",
            "Final Portfolio Value: $222042.00  "
          ]
        }
      ]
    },
    {
      "cell_type": "code",
      "source": [
        "max_drawdown = max(drawdowns) * 100\n",
        "win_rate = (winning_trades / round_trip_trades) * 100 if round_trip_trades > 0 else 0\n",
        "\n",
        "total_return = ((final_value - initial_capital) / initial_capital) * 100\n",
        "\n",
        "performance_data = {\n",
        "    \"Sample\": [\"Historical\"],\n",
        "    \"# of round-trip trades\": [round_trip_trades],\n",
        "    \"Total return, %\": [round(total_return, 2)],\n",
        "    \"B & H return, %\": [round(buy_and_hold_return, 2)],\n",
        "    \"Winning trades, %\": [round(win_rate, 2)],\n",
        "    \"Max drawdown, %\": [round(max_drawdown, 2)]\n",
        "}\n",
        "\n",
        "performance_df = pd.DataFrame(performance_data)\n",
        "print(performance_df)"
      ],
      "metadata": {
        "colab": {
          "base_uri": "https://localhost:8080/"
        },
        "id": "jOnwfU1bS6jJ",
        "outputId": "1d08c048-2ba9-406d-f4f9-8142e7066389"
      },
      "execution_count": 9,
      "outputs": [
        {
          "output_type": "stream",
          "name": "stdout",
          "text": [
            "       Sample  # of round-trip trades  Total return, %  B & H return, %  \\\n",
            "0  Historical                      29           122.04           143.86   \n",
            "\n",
            "   Winning trades, %  Max drawdown, %  \n",
            "0              55.17            23.57  \n"
          ]
        }
      ]
    },
    {
      "cell_type": "markdown",
      "source": [
        "The trading strategy executed 29 round-trip trades, achieving a total return of 122.04%.  While this represents a solid performance, it remains below the buy-and-hold return of 143.86% over the same period.  This indicates that the frequent trading approach did not surpass the returns of simply holding the asset.  The win rate of 55.17% suggests a moderate edge in trade profitability, while the maximum drawdown of 23.57% reflects a relatively controlled level of downside risk compared to previous iterations.  Overall, while the strategy effectively mitigates risk and delivers respectable returns, its inability to outperform the buy-and-hold approach may limit its attractiveness for long-term investors."
      ],
      "metadata": {
        "id": "YmH5jX3ljl28"
      }
    },
    {
      "cell_type": "markdown",
      "source": [
        "### Channel breakouts Trading Strategy\n",
        "#### Strategy Assumptions\n",
        "- Initial Capital: $100,000\n",
        "- Trading Unit: Only whole shares can be bought or sold.\n",
        "\n",
        "#### Trading Logic\n",
        "\n",
        "The upper and lower bands are calculated using the highest (M_t) and lowest (m_t) prices over a rolling window (window = 20).\n",
        "The standard deviation (stddev) of the closing price over the same window is computed.\n",
        "The threshold (B) is determined as k * stddev, where k = 2, a typical Bollinger Band setting.\n",
        "\n",
        "- Buy Condition: If the price breaks above (1 + B) * m_prev, it indicates an uptrend breakout, and the strategy buys as many whole shares as possible.\n",
        "\n",
        "- Sell Condition: If the price falls below (1 - B) * M_prev, it indicates a downtrend breakout, and the strategy sells all holdings.\n",
        "\n",
        "#### Capital Management\n",
        "- Buy: Purchase as many whole shares as possible without borrowing.\n",
        "- Sell: Liquidate all holdings when a sell signal is triggered.\n",
        "- Management Fee: A 0.20% annual fee is deducted from the total capital.\n",
        "- Slippage Settings:\n",
        "  - Fixed Slippage: A predefined percentage (0.05% per trade)."
      ],
      "metadata": {
        "id": "ziAq1YvNkG7Y"
      }
    },
    {
      "cell_type": "code",
      "source": [
        "window = 20\n",
        "qqq_data[\"M_t\"] = qqq_data[\"High\"].rolling(window=window).max()\n",
        "qqq_data[\"m_t\"] = qqq_data[\"Low\"].rolling(window=window).min()\n",
        "qqq_data[\"stddev\"] = qqq_data[\"Close\"].rolling(window=window).std()\n",
        "\n",
        "k = 2\n",
        "initial_capital = 100000\n",
        "cash = initial_capital\n",
        "position = 0\n",
        "slippage = 0.0005\n",
        "management_fee = 0.002\n",
        "round_trip_trades = 0\n",
        "winning_trades = 0\n",
        "drawdowns = []\n",
        "peak_value = initial_capital\n",
        "\n",
        "trade_log = []\n",
        "\n",
        "for i in range(window, len(qqq_data)):\n",
        "    current_price = qqq_data[\"Close\"].iloc[i]\n",
        "    current_price_adjust=qqq_data[\"Adj Close\"].iloc[i]\n",
        "    M_prev = qqq_data[\"M_t\"].iloc[i-1]\n",
        "    m_prev = qqq_data[\"m_t\"].iloc[i-1]\n",
        "    B= k * qqq_data[\"stddev\"].iloc[i-1]\n",
        "    buy_price = (1 + B) * m_prev\n",
        "    sell_price = (1 - B) * M_prev\n",
        "\n",
        "    if position == 0 and current_price > buy_price and cash >= current_price:\n",
        "        execution_price = current_price * (1 + slippage)\n",
        "        shares_to_buy = int(cash / execution_price)\n",
        "        cost = shares_to_buy * execution_price\n",
        "        position += shares_to_buy\n",
        "        cash -= cost\n",
        "        entry_price = execution_price\n",
        "        entry_price_adjust=current_price_adjust\n",
        "        trade_log.append(f\"Buy {shares_to_buy} shares at {execution_price:.2f} on {qqq_data.index[i].date()}\")\n",
        "\n",
        "    elif position > 0 and current_price < sell_price:\n",
        "        execution_price = entry_price * current_price_adjust / entry_price_adjust * (1 - slippage)\n",
        "        sell_revenue = position * execution_price\n",
        "        cash += sell_revenue\n",
        "        trade_log.append(f\"Sell {position} shares at {execution_price:.2f} on {qqq_data.index[i].date()}\")\n",
        "\n",
        "\n",
        "        if execution_price > entry_price:\n",
        "            winning_trades += 1\n",
        "\n",
        "        position = 0\n",
        "\n",
        "    portfolio_value = cash + position * current_price\n",
        "    peak_value = max(peak_value, portfolio_value)\n",
        "    drawdown = (peak_value - portfolio_value) / peak_value * 100\n",
        "    drawdowns.append(drawdown)\n",
        "\n",
        "    if i % 252 == 0:\n",
        "        cash *= (1 - management_fee)\n",
        "\n",
        "final_value = cash + position * qqq_data[\"Close\"].iloc[-1]\n",
        "trade_log.append(f\"Final Portfolio Value: ${final_value:.2f}\")\n",
        "\n",
        "total_return = ((final_value - initial_capital) / initial_capital) * 100\n",
        "win_rate = (winning_trades / round_trip_trades) * 100 if round_trip_trades > 0 else 0\n",
        "max_drawdown = max(drawdowns)\n",
        "\n",
        "performance_data = {\n",
        "    \"Sample\": [\"Historical\"],\n",
        "    \"# of round-trip trades\": [round_trip_trades],\n",
        "    \"Total return, %\": [round(total_return, 2)],\n",
        "    \"B & H return, %\": [round(buy_and_hold_return, 2)],\n",
        "    \"Winning trades, %\": [round(win_rate, 2)],\n",
        "    \"Max drawdown, %\": [round(max_drawdown, 2)]\n",
        "}\n",
        "\n",
        "performance_df = pd.DataFrame(performance_data)\n",
        "\n",
        "for log in trade_log:\n",
        "    print(log)\n",
        "print(performance_df)\n"
      ],
      "metadata": {
        "colab": {
          "base_uri": "https://localhost:8080/"
        },
        "id": "qPQXA3XNlLED",
        "outputId": "e194f4c6-162b-4175-fa31-2755e3cdb8cd"
      },
      "execution_count": 10,
      "outputs": [
        {
          "output_type": "stream",
          "name": "stdout",
          "text": [
            "Final Portfolio Value: $99202.40\n",
            "       Sample  # of round-trip trades  Total return, %  B & H return, %  \\\n",
            "0  Historical                       0             -0.8           143.86   \n",
            "\n",
            "   Winning trades, %  Max drawdown, %  \n",
            "0                  0              0.8  \n"
          ]
        }
      ]
    },
    {
      "cell_type": "markdown",
      "source": [
        "The strategy did not execute any trades, as indicated by the zero round-trip trades.  This suggests that the buy and sell conditions were never met.  The total return is -0.8%, due to the annual management fee, while the buy-and-hold return is 143.86%, showing that the ETF performed well, but the strategy failed to capture gains."
      ],
      "metadata": {
        "id": "VtAGqA-dyswD"
      }
    },
    {
      "cell_type": "markdown",
      "source": [
        "###Momentum and oscillator strategies"
      ],
      "metadata": {
        "id": "EvpHotyWyt2i"
      }
    },
    {
      "cell_type": "markdown",
      "source": [
        "### Momentum and Oscillator Trading Strategy\n",
        "\n",
        "#### Strategy Assumptions\n",
        "- Initial Capital: `$100,000`\n",
        "- Trading Unit: Only whole shares can be bought or sold.\n",
        "\n",
        "#### Trading Logic\n",
        "This strategy utilizes momentum (k-day price change) and MACD-based oscillator to generate buy and sell signals.\n",
        "\n",
        "The k-day price momentum is computed as:\n",
        "\n",
        "$$ M_t = P_t - P_{t-k} $$\n",
        "\n",
        "where \\( k = 10 \\) days, indicating the net price change over the past 10 days.\n",
        "\n",
        "#### MACD Oscillator Calculation\n",
        "- The MACD line is computed as the difference between two exponential moving averages (EMA):\n",
        "  \n",
        "  $$ MACD_t = ema(P_t, 12) - ema(P_t, 26) $$\n",
        "  \n",
        "- A signal line is computed as the 9-day EMA of the MACD line:\n",
        "  \n",
        "  $$\\text{Signal Line} = ema(MACD_t, 9) $$\n",
        "  \n",
        "- The oscillator is the difference between MACD and its signal line:\n",
        "  \n",
        "  \\[ \\text{Oscillator} = MACD_t - \\text{Signal Line} \\]\n",
        "\n",
        "#### Trading Conditions\n",
        "- Buy Condition: If the MACD crosses above the signal line, it indicates a bullish momentum shift, and the strategy buys as many whole shares as possible.\n",
        "- Sell Condition: If the MACD crosses below the signal line, it indicates a bearish momentum shift, and the strategy sells all holdings.\n",
        "\n",
        "#### Capital Management\n",
        "- Buy: Purchase as many whole shares as possible without borrowing.\n",
        "- Sell: Liquidate all holdings when a sell signal is triggered.\n",
        "- Management Fee: A 0.20% annual fee is deducted from the total capital.\n",
        "- Slippage Settings:\n",
        "  - Fixed Slippage: A predefined percentage (0.05% per trade).\n",
        "\n"
      ],
      "metadata": {
        "id": "1Ly4oe36U-Ys"
      }
    },
    {
      "cell_type": "code",
      "source": [
        "k_day = 10\n",
        "ema_short = 12\n",
        "ema_long = 26\n",
        "signal_window = 9\n",
        "initial_capital = 100000\n",
        "slippage = 0.0005\n",
        "management_fee = 0.002\n",
        "\n",
        "\n",
        "qqq_data[\"Momentum\"] = qqq_data[\"Close\"] - qqq_data[\"Close\"].shift(k_day)\n",
        "qqq_data[\"EMA_12\"] = qqq_data[\"Close\"].ewm(span=ema_short, adjust=False).mean()\n",
        "qqq_data[\"EMA_26\"] = qqq_data[\"Close\"].ewm(span=ema_long, adjust=False).mean()\n",
        "qqq_data[\"MACD\"] = qqq_data[\"EMA_12\"] - qqq_data[\"EMA_26\"]\n",
        "qqq_data[\"Signal\"] = qqq_data[\"MACD\"].ewm(span=signal_window, adjust=False).mean()\n",
        "qqq_data[\"Oscillator\"] = qqq_data[\"MACD\"] - qqq_data[\"Signal\"]\n",
        "\n",
        "cash = initial_capital\n",
        "position = 0\n",
        "trade_log = []\n",
        "winning_trades = 0\n",
        "round_trip_trades = 0\n",
        "peak_value = initial_capital\n",
        "drawdowns = []\n",
        "equity_curve = []\n",
        "\n",
        "for i in range(signal_window, len(qqq_data)):\n",
        "    current_price = qqq_data[\"Close\"].iloc[i]\n",
        "    current_price_adjust=qqq_data[\"Adj Close\"].iloc[i]\n",
        "    macd = qqq_data[\"MACD\"].iloc[i]\n",
        "    signal = qqq_data[\"Signal\"].iloc[i]\n",
        "\n",
        "    buy_signal = macd > signal\n",
        "    sell_signal = macd < signal\n",
        "\n",
        "    if buy_signal and cash >= current_price:\n",
        "        execution_price = current_price * (1 + slippage)\n",
        "        shares_to_buy = int(cash / execution_price)\n",
        "        cost = shares_to_buy * execution_price\n",
        "        position += shares_to_buy\n",
        "        cash -= cost\n",
        "        entry_price = execution_price\n",
        "        entry_price_adjust=current_price_adjust\n",
        "        trade_log.append(f\"Buy {shares_to_buy} shares at {execution_price:.2f} on {qqq_data.index[i].date()}\")\n",
        "\n",
        "    elif sell_signal and position > 0:\n",
        "        execution_price = entry_price * current_price_adjust / entry_price_adjust * (1 - slippage)\n",
        "        sell_value = position * execution_price\n",
        "        cash += sell_value\n",
        "        trade_log.append(f\"Sell {position} shares at {execution_price:.2f} on {qqq_data.index[i].date()}\")\n",
        "\n",
        "        if execution_price > entry_price:\n",
        "            winning_trades += 1\n",
        "        round_trip_trades += 1\n",
        "        position = 0\n",
        "\n",
        "    current_value = cash + position * current_price\n",
        "    equity_curve.append(current_value)\n",
        "    peak_value = max(peak_value, current_value)\n",
        "    drawdowns.append((peak_value - current_value) / peak_value)\n",
        "\n",
        "    if i % 252 == 0:\n",
        "        cash *= (1 - management_fee)\n",
        "\n",
        "final_value = cash + position * qqq_data[\"Close\"].iloc[-1]\n",
        "trade_log.append(f\"Final Portfolio Value: ${final_value:.2f}\")\n",
        "\n",
        "total_return = ((final_value - initial_capital) / initial_capital) * 100\n",
        "win_rate = (winning_trades / round_trip_trades) * 100 if round_trip_trades > 0 else 0\n",
        "max_drawdown = max(drawdowns) * 100\n",
        "\n",
        "performance_data = {\n",
        "    \"Sample\": [\"Historical\"],\n",
        "    \"# of round-trip trades\": [round_trip_trades],\n",
        "    \"Total return, %\": [round(total_return, 2)],\n",
        "    \"B & H return, %\": [round(buy_and_hold_return, 2)],\n",
        "    \"Winning trades, %\": [round(win_rate, 2)],\n",
        "    \"Max drawdown, %\": [round(max_drawdown, 2)]\n",
        "}\n",
        "\n",
        "performance_df = pd.DataFrame(performance_data)\n",
        "print(performance_df)\n",
        "\n",
        "\n"
      ],
      "metadata": {
        "colab": {
          "base_uri": "https://localhost:8080/"
        },
        "id": "Wvj2nRL6QuQz",
        "outputId": "6b69d7c0-08d9-443d-c712-fe1bd8767020"
      },
      "execution_count": 11,
      "outputs": [
        {
          "output_type": "stream",
          "name": "stdout",
          "text": [
            "       Sample  # of round-trip trades  Total return, %  B & H return, %  \\\n",
            "0  Historical                      50            56.34           143.86   \n",
            "\n",
            "   Winning trades, %  Max drawdown, %  \n",
            "0               54.0            25.01  \n"
          ]
        }
      ]
    },
    {
      "cell_type": "markdown",
      "source": [
        "The backtest results indicate that the Momentum and Oscillator Trading Strategy achieved a total return of 56.34%.  While the strategy was profitable, it significantly underperformed the buy-and-hold return of 143.86%, suggesting that simply holding the asset would have been a more effective approach during this period.  The strategy executed 50 round-trip trades, reflecting a high trading frequency.  With a winning trade rate of 54.0%, it does not rely heavily on a high success rate but likely depends on the risk-reward ratio of individual trades.  However, the maximum drawdown of 25.01% indicates notable downside risk, as the portfolio experienced a substantial decline from its peak.  Overall, while the strategy provides active trading opportunities, its inability to surpass the buy-and-hold return raises concerns about its long-term viability."
      ],
      "metadata": {
        "id": "3ZtHG9JxV2js"
      }
    },
    {
      "cell_type": "markdown",
      "source": [
        "###Conclusion\n",
        "In this project, we observed that none of the trading strategies outperformed the buy-and-hold approach in terms of return. This underperformance is likely due to the fact that QQQ has been in an overall upward trend for most of the period. As a result, the trading strategies missed out on a portion of the gains by entering and exiting positions. For assets that exhibit a consistent upward trajectory over time, a buy-and-hold strategy may generate higher returns compared to more active trading approaches."
      ],
      "metadata": {
        "id": "___p4Hr1b0iE"
      }
    }
  ]
}